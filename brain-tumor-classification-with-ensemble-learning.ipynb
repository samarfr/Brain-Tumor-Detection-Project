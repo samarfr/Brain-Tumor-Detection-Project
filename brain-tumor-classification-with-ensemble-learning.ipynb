{
 "cells": [
  {
   "cell_type": "code",
   "execution_count": 1,
   "id": "0285a6da",
   "metadata": {
    "execution": {
     "iopub.execute_input": "2024-09-08T18:10:56.796400Z",
     "iopub.status.busy": "2024-09-08T18:10:56.795938Z",
     "iopub.status.idle": "2024-09-08T18:10:56.812409Z",
     "shell.execute_reply": "2024-09-08T18:10:56.811113Z"
    },
    "papermill": {
     "duration": 0.03165,
     "end_time": "2024-09-08T18:10:56.814740",
     "exception": false,
     "start_time": "2024-09-08T18:10:56.783090",
     "status": "completed"
    },
    "tags": []
   },
   "outputs": [
    {
     "name": "stdout",
     "output_type": "stream",
     "text": [
      "['brain-tumor-classification-mri']\n"
     ]
    }
   ],
   "source": [
    "import os\n",
    "print(os.listdir('../input'))"
   ]
  },
  {
   "cell_type": "code",
   "execution_count": 2,
   "id": "e92a2423",
   "metadata": {
    "execution": {
     "iopub.execute_input": "2024-09-08T18:10:56.837770Z",
     "iopub.status.busy": "2024-09-08T18:10:56.836800Z",
     "iopub.status.idle": "2024-09-08T18:11:11.595919Z",
     "shell.execute_reply": "2024-09-08T18:11:11.595116Z"
    },
    "papermill": {
     "duration": 14.772882,
     "end_time": "2024-09-08T18:11:11.598244",
     "exception": false,
     "start_time": "2024-09-08T18:10:56.825362",
     "status": "completed"
    },
    "tags": []
   },
   "outputs": [
    {
     "name": "stderr",
     "output_type": "stream",
     "text": [
      "2024-09-08 18:11:00.199085: E external/local_xla/xla/stream_executor/cuda/cuda_dnn.cc:9261] Unable to register cuDNN factory: Attempting to register factory for plugin cuDNN when one has already been registered\n",
      "2024-09-08 18:11:00.199193: E external/local_xla/xla/stream_executor/cuda/cuda_fft.cc:607] Unable to register cuFFT factory: Attempting to register factory for plugin cuFFT when one has already been registered\n",
      "2024-09-08 18:11:00.338530: E external/local_xla/xla/stream_executor/cuda/cuda_blas.cc:1515] Unable to register cuBLAS factory: Attempting to register factory for plugin cuBLAS when one has already been registered\n"
     ]
    }
   ],
   "source": [
    "import numpy as np\n",
    "import os\n",
    "import cv2\n",
    "import matplotlib.pyplot as plt\n",
    "import matplotlib.colors\n",
    "from sklearn.model_selection import train_test_split , GridSearchCV\n",
    "from sklearn.decomposition import PCA\n",
    "from sklearn.svm import SVC\n",
    "from sklearn.metrics import accuracy_score\n",
    "from sklearn.metrics import classification_report, confusion_matrix\n",
    "import tensorflow as tf \n",
    "from tensorflow import keras\n",
    "from tqdm import tqdm \n",
    "from sklearn.utils import shuffle \n",
    "from sklearn.preprocessing import LabelEncoder\n",
    "from imblearn.over_sampling import SMOTE \n",
    "from sklearn.metrics import ConfusionMatrixDisplay\n",
    "from sklearn.ensemble import RandomForestClassifier\n",
    "from sklearn.svm import SVC\n",
    "from sklearn .ensemble import VotingClassifier \n",
    "from sklearn.metrics import accuracy_score \n",
    "from sklearn.linear_model import LogisticRegression\n",
    "from sklearn.ensemble import BaggingClassifier \n",
    "from sklearn.ensemble import AdaBoostClassifier\n",
    "from sklearn.ensemble import GradientBoostingClassifier"
   ]
  },
  {
   "cell_type": "code",
   "execution_count": 3,
   "id": "0e2fc935",
   "metadata": {
    "execution": {
     "iopub.execute_input": "2024-09-08T18:11:11.619688Z",
     "iopub.status.busy": "2024-09-08T18:11:11.619108Z",
     "iopub.status.idle": "2024-09-08T18:11:33.172222Z",
     "shell.execute_reply": "2024-09-08T18:11:33.171099Z"
    },
    "papermill": {
     "duration": 21.566569,
     "end_time": "2024-09-08T18:11:33.174776",
     "exception": false,
     "start_time": "2024-09-08T18:11:11.608207",
     "status": "completed"
    },
    "tags": []
   },
   "outputs": [
    {
     "name": "stderr",
     "output_type": "stream",
     "text": [
      "100%|██████████| 826/826 [00:05<00:00, 161.20it/s]\n",
      "100%|██████████| 395/395 [00:02<00:00, 175.32it/s]\n",
      "100%|██████████| 822/822 [00:05<00:00, 157.12it/s]\n",
      "100%|██████████| 827/827 [00:05<00:00, 147.03it/s]\n",
      "100%|██████████| 100/100 [00:00<00:00, 151.50it/s]\n",
      "100%|██████████| 105/105 [00:00<00:00, 214.64it/s]\n",
      "100%|██████████| 115/115 [00:00<00:00, 174.07it/s]\n",
      "100%|██████████| 74/74 [00:00<00:00, 120.96it/s]\n"
     ]
    }
   ],
   "source": [
    "labels = ['glioma_tumor','no_tumor','meningioma_tumor','pituitary_tumor']\n",
    "X_train =[]\n",
    "Y_train =[] \n",
    "image_size =150 \n",
    "for i in labels : \n",
    "    folderPath = os.path.join('../input/brain-tumor-classification-mri','Training',i)\n",
    "    for j in tqdm(os.listdir(folderPath)):\n",
    "        img = cv2.imread(os.path.join(folderPath,j))  \n",
    "        img = cv2.resize(img,(image_size,image_size))\n",
    "        img = img / 255.0  # Normalize the image\n",
    "        X_train.append(img) \n",
    "        Y_train.append(i)\n",
    "\n",
    "for i in labels : \n",
    "    folderPath = os.path.join('../input/brain-tumor-classification-mri','Testing',i)\n",
    "    for j in tqdm(os.listdir(folderPath)):\n",
    "        img = cv2.imread(os.path.join(folderPath,j))  \n",
    "        img = cv2.resize(img,(image_size,image_size))\n",
    "        img = img / 255.0  # Normalize the image\n",
    "        X_train.append(img) \n",
    "        Y_train.append(i) \n",
    "X_train = np.array(X_train) \n",
    "Y_train = np.array(Y_train)"
   ]
  },
  {
   "cell_type": "code",
   "execution_count": 4,
   "id": "ee01df19",
   "metadata": {
    "execution": {
     "iopub.execute_input": "2024-09-08T18:11:33.230244Z",
     "iopub.status.busy": "2024-09-08T18:11:33.229917Z",
     "iopub.status.idle": "2024-09-08T18:11:33.753446Z",
     "shell.execute_reply": "2024-09-08T18:11:33.752588Z"
    },
    "papermill": {
     "duration": 0.554869,
     "end_time": "2024-09-08T18:11:33.756026",
     "exception": false,
     "start_time": "2024-09-08T18:11:33.201157",
     "status": "completed"
    },
    "tags": []
   },
   "outputs": [],
   "source": [
    "X_train , Y_train = shuffle(X_train ,Y_train,random_state=101)"
   ]
  },
  {
   "cell_type": "code",
   "execution_count": 5,
   "id": "cd0baa35",
   "metadata": {
    "execution": {
     "iopub.execute_input": "2024-09-08T18:11:33.811478Z",
     "iopub.status.busy": "2024-09-08T18:11:33.810658Z",
     "iopub.status.idle": "2024-09-08T18:11:34.316461Z",
     "shell.execute_reply": "2024-09-08T18:11:34.315616Z"
    },
    "papermill": {
     "duration": 0.535962,
     "end_time": "2024-09-08T18:11:34.318943",
     "exception": false,
     "start_time": "2024-09-08T18:11:33.782981",
     "status": "completed"
    },
    "tags": []
   },
   "outputs": [],
   "source": [
    "X_train,X_test,Y_train,Y_test = train_test_split(X_train,Y_train, test_size=0.1,random_state=101)"
   ]
  },
  {
   "cell_type": "code",
   "execution_count": 6,
   "id": "0e0f22e4",
   "metadata": {
    "execution": {
     "iopub.execute_input": "2024-09-08T18:11:34.375183Z",
     "iopub.status.busy": "2024-09-08T18:11:34.374840Z",
     "iopub.status.idle": "2024-09-08T18:13:12.220938Z",
     "shell.execute_reply": "2024-09-08T18:13:12.219396Z"
    },
    "papermill": {
     "duration": 97.878243,
     "end_time": "2024-09-08T18:13:12.224967",
     "exception": false,
     "start_time": "2024-09-08T18:11:34.346724",
     "status": "completed"
    },
    "tags": []
   },
   "outputs": [],
   "source": [
    "# Reshape the 4D arrays to 2D\n",
    "num_samples_train = X_train.shape[0]\n",
    "num_samples_test = X_test.shape[0]\n",
    "\n",
    "X_train_reshaped = X_train.reshape(num_samples_train, -1)  # Flatten images\n",
    "X_test_reshaped = X_test.reshape(num_samples_test, -1)\n",
    "\n",
    "# Apply PCA for dimensionality reduction\n",
    "pca = PCA(n_components=0.98)\n",
    "pca_train = pca.fit_transform(X_train_reshaped)\n",
    "pca_test = pca.transform(X_test_reshaped)\n"
   ]
  },
  {
   "cell_type": "code",
   "execution_count": 7,
   "id": "9cac98cf",
   "metadata": {
    "execution": {
     "iopub.execute_input": "2024-09-08T18:13:12.354892Z",
     "iopub.status.busy": "2024-09-08T18:13:12.353800Z",
     "iopub.status.idle": "2024-09-08T18:13:12.559713Z",
     "shell.execute_reply": "2024-09-08T18:13:12.558913Z"
    },
    "papermill": {
     "duration": 0.275509,
     "end_time": "2024-09-08T18:13:12.561997",
     "exception": false,
     "start_time": "2024-09-08T18:13:12.286488",
     "status": "completed"
    },
    "tags": []
   },
   "outputs": [
    {
     "name": "stdout",
     "output_type": "stream",
     "text": [
      "(3364, 1348)\n",
      "(3364,)\n"
     ]
    }
   ],
   "source": [
    "# Apply SMOTE on the PCA-transformed data\n",
    "smote = SMOTE()\n",
    "X_resampled, Y_resampled = smote.fit_resample(pca_train, Y_train)\n",
    "print(X_resampled.shape)\n",
    "print(Y_resampled.shape)"
   ]
  },
  {
   "cell_type": "code",
   "execution_count": 8,
   "id": "80ef36ac",
   "metadata": {
    "execution": {
     "iopub.execute_input": "2024-09-08T18:13:12.618027Z",
     "iopub.status.busy": "2024-09-08T18:13:12.617665Z",
     "iopub.status.idle": "2024-09-08T18:13:12.628410Z",
     "shell.execute_reply": "2024-09-08T18:13:12.627326Z"
    },
    "papermill": {
     "duration": 0.041303,
     "end_time": "2024-09-08T18:13:12.630529",
     "exception": false,
     "start_time": "2024-09-08T18:13:12.589226",
     "status": "completed"
    },
    "tags": []
   },
   "outputs": [
    {
     "name": "stdout",
     "output_type": "stream",
     "text": [
      "Original training class distribution: Counter({'meningioma_tumor': 841, 'glioma_tumor': 833, 'pituitary_tumor': 814, 'no_tumor': 449})\n",
      "Resampled class distribution: Counter({'glioma_tumor': 841, 'no_tumor': 841, 'pituitary_tumor': 841, 'meningioma_tumor': 841})\n"
     ]
    }
   ],
   "source": [
    "from collections import Counter\n",
    "train_class_counts = Counter(Y_train)\n",
    "resampled_class_counts = Counter(Y_resampled)\n",
    "\n",
    "print(\"Original training class distribution:\", train_class_counts)\n",
    "print(\"Resampled class distribution:\", resampled_class_counts)"
   ]
  },
  {
   "cell_type": "code",
   "execution_count": 9,
   "id": "cd764285",
   "metadata": {
    "execution": {
     "iopub.execute_input": "2024-09-08T18:13:12.686882Z",
     "iopub.status.busy": "2024-09-08T18:13:12.686585Z",
     "iopub.status.idle": "2024-09-08T18:13:12.691116Z",
     "shell.execute_reply": "2024-09-08T18:13:12.690313Z"
    },
    "papermill": {
     "duration": 0.034521,
     "end_time": "2024-09-08T18:13:12.692997",
     "exception": false,
     "start_time": "2024-09-08T18:13:12.658476",
     "status": "completed"
    },
    "tags": []
   },
   "outputs": [],
   "source": [
    "\n",
    "# Define the parameter grid for hyperparameter tuning\n",
    "#param_grid = {\n",
    "    #'n_estimators': [300,400, 500],\n",
    "    #'max_depth': [None, 10, 20],\n",
    "    \n",
    "#}\n",
    "\n",
    "#rf_clf = RandomForestClassifier()\n",
    "\n",
    "#clf = GridSearchCV(rf_clf, param_grid, cv=5, verbose=2, n_jobs=-1)  # 5-fold cross-validation\n",
    "\n",
    "#clf.fit(X_resampled, Y_resampled)\n",
    "\n",
    "# Get the best parameters and best score from the grid search\n",
    "#best_params = clf.best_params_\n",
    "#best_score = clf.best_score_\n",
    "\n",
    "#print(f\"Best parameters found: {best_params}\")\n",
    "#print(f\"Best cross-validation score: {best_score}\")\n",
    "\n",
    "# Use the best parameters to create the RandomForestClassifier\n",
    "#best_rf_clf = RandomForestClassifier(**best_params)\n"
   ]
  },
  {
   "cell_type": "markdown",
   "id": "29b26096",
   "metadata": {
    "papermill": {
     "duration": 0.025413,
     "end_time": "2024-09-08T18:13:12.744240",
     "exception": false,
     "start_time": "2024-09-08T18:13:12.718827",
     "status": "completed"
    },
    "tags": []
   },
   "source": [
    "# voting classifiers "
   ]
  },
  {
   "cell_type": "markdown",
   "id": "259ea1d5",
   "metadata": {
    "papermill": {
     "duration": 0.026045,
     "end_time": "2024-09-08T18:13:12.797364",
     "exception": false,
     "start_time": "2024-09-08T18:13:12.771319",
     "status": "completed"
    },
    "tags": []
   },
   "source": [
    "Predicting the class that receives the most votes is a relatively easy method of improving the classifier by combining the predictions of all the classifiers. We refer to this majority-vote classifier as a \"hard voting classifier."
   ]
  },
  {
   "cell_type": "markdown",
   "id": "fc1cc2e1",
   "metadata": {
    "papermill": {
     "duration": 0.027248,
     "end_time": "2024-09-08T18:13:12.851049",
     "exception": false,
     "start_time": "2024-09-08T18:13:12.823801",
     "status": "completed"
    },
    "tags": []
   },
   "source": [
    "!! When all classifiers possess the capacity to estimate class probabilities ( they have a pre dict_proba() method), you may instruct Scikit-Learn to forecast the class with the highest class probability, which is the average of all the classifiers, individually. The term for this is \"soft voting.\" As a result of giving votes with a high degree of confidence greater weight than hard voting, it frequently produces better results."
   ]
  },
  {
   "cell_type": "code",
   "execution_count": 10,
   "id": "b9c75be4",
   "metadata": {
    "execution": {
     "iopub.execute_input": "2024-09-08T18:13:12.907401Z",
     "iopub.status.busy": "2024-09-08T18:13:12.906278Z",
     "iopub.status.idle": "2024-09-08T18:14:10.979908Z",
     "shell.execute_reply": "2024-09-08T18:14:10.978660Z"
    },
    "papermill": {
     "duration": 58.217942,
     "end_time": "2024-09-08T18:14:11.095744",
     "exception": false,
     "start_time": "2024-09-08T18:13:12.877802",
     "status": "completed"
    },
    "tags": []
   },
   "outputs": [
    {
     "name": "stderr",
     "output_type": "stream",
     "text": [
      "/opt/conda/lib/python3.10/site-packages/sklearn/linear_model/_logistic.py:458: ConvergenceWarning: lbfgs failed to converge (status=1):\n",
      "STOP: TOTAL NO. of ITERATIONS REACHED LIMIT.\n",
      "\n",
      "Increase the number of iterations (max_iter) or scale the data as shown in:\n",
      "    https://scikit-learn.org/stable/modules/preprocessing.html\n",
      "Please also refer to the documentation for alternative solver options:\n",
      "    https://scikit-learn.org/stable/modules/linear_model.html#logistic-regression\n",
      "  n_iter_i = _check_optimize_result(\n"
     ]
    },
    {
     "data": {
      "text/html": [
       "<style>#sk-container-id-1 {color: black;background-color: white;}#sk-container-id-1 pre{padding: 0;}#sk-container-id-1 div.sk-toggleable {background-color: white;}#sk-container-id-1 label.sk-toggleable__label {cursor: pointer;display: block;width: 100%;margin-bottom: 0;padding: 0.3em;box-sizing: border-box;text-align: center;}#sk-container-id-1 label.sk-toggleable__label-arrow:before {content: \"▸\";float: left;margin-right: 0.25em;color: #696969;}#sk-container-id-1 label.sk-toggleable__label-arrow:hover:before {color: black;}#sk-container-id-1 div.sk-estimator:hover label.sk-toggleable__label-arrow:before {color: black;}#sk-container-id-1 div.sk-toggleable__content {max-height: 0;max-width: 0;overflow: hidden;text-align: left;background-color: #f0f8ff;}#sk-container-id-1 div.sk-toggleable__content pre {margin: 0.2em;color: black;border-radius: 0.25em;background-color: #f0f8ff;}#sk-container-id-1 input.sk-toggleable__control:checked~div.sk-toggleable__content {max-height: 200px;max-width: 100%;overflow: auto;}#sk-container-id-1 input.sk-toggleable__control:checked~label.sk-toggleable__label-arrow:before {content: \"▾\";}#sk-container-id-1 div.sk-estimator input.sk-toggleable__control:checked~label.sk-toggleable__label {background-color: #d4ebff;}#sk-container-id-1 div.sk-label input.sk-toggleable__control:checked~label.sk-toggleable__label {background-color: #d4ebff;}#sk-container-id-1 input.sk-hidden--visually {border: 0;clip: rect(1px 1px 1px 1px);clip: rect(1px, 1px, 1px, 1px);height: 1px;margin: -1px;overflow: hidden;padding: 0;position: absolute;width: 1px;}#sk-container-id-1 div.sk-estimator {font-family: monospace;background-color: #f0f8ff;border: 1px dotted black;border-radius: 0.25em;box-sizing: border-box;margin-bottom: 0.5em;}#sk-container-id-1 div.sk-estimator:hover {background-color: #d4ebff;}#sk-container-id-1 div.sk-parallel-item::after {content: \"\";width: 100%;border-bottom: 1px solid gray;flex-grow: 1;}#sk-container-id-1 div.sk-label:hover label.sk-toggleable__label {background-color: #d4ebff;}#sk-container-id-1 div.sk-serial::before {content: \"\";position: absolute;border-left: 1px solid gray;box-sizing: border-box;top: 0;bottom: 0;left: 50%;z-index: 0;}#sk-container-id-1 div.sk-serial {display: flex;flex-direction: column;align-items: center;background-color: white;padding-right: 0.2em;padding-left: 0.2em;position: relative;}#sk-container-id-1 div.sk-item {position: relative;z-index: 1;}#sk-container-id-1 div.sk-parallel {display: flex;align-items: stretch;justify-content: center;background-color: white;position: relative;}#sk-container-id-1 div.sk-item::before, #sk-container-id-1 div.sk-parallel-item::before {content: \"\";position: absolute;border-left: 1px solid gray;box-sizing: border-box;top: 0;bottom: 0;left: 50%;z-index: -1;}#sk-container-id-1 div.sk-parallel-item {display: flex;flex-direction: column;z-index: 1;position: relative;background-color: white;}#sk-container-id-1 div.sk-parallel-item:first-child::after {align-self: flex-end;width: 50%;}#sk-container-id-1 div.sk-parallel-item:last-child::after {align-self: flex-start;width: 50%;}#sk-container-id-1 div.sk-parallel-item:only-child::after {width: 0;}#sk-container-id-1 div.sk-dashed-wrapped {border: 1px dashed gray;margin: 0 0.4em 0.5em 0.4em;box-sizing: border-box;padding-bottom: 0.4em;background-color: white;}#sk-container-id-1 div.sk-label label {font-family: monospace;font-weight: bold;display: inline-block;line-height: 1.2em;}#sk-container-id-1 div.sk-label-container {text-align: center;}#sk-container-id-1 div.sk-container {/* jupyter's `normalize.less` sets `[hidden] { display: none; }` but bootstrap.min.css set `[hidden] { display: none !important; }` so we also need the `!important` here to be able to override the default hidden behavior on the sphinx rendered scikit-learn.org. See: https://github.com/scikit-learn/scikit-learn/issues/21755 */display: inline-block !important;position: relative;}#sk-container-id-1 div.sk-text-repr-fallback {display: none;}</style><div id=\"sk-container-id-1\" class=\"sk-top-container\"><div class=\"sk-text-repr-fallback\"><pre>VotingClassifier(estimators=[(&#x27;rf&#x27;,\n",
       "                              RandomForestClassifier(max_depth=20,\n",
       "                                                     n_estimators=500)),\n",
       "                             (&#x27;svc&#x27;, SVC(C=10)),\n",
       "                             (&#x27;lr&#x27;,\n",
       "                              LogisticRegression(multi_class=&#x27;multinomial&#x27;))])</pre><b>In a Jupyter environment, please rerun this cell to show the HTML representation or trust the notebook. <br />On GitHub, the HTML representation is unable to render, please try loading this page with nbviewer.org.</b></div><div class=\"sk-container\" hidden><div class=\"sk-item sk-dashed-wrapped\"><div class=\"sk-label-container\"><div class=\"sk-label sk-toggleable\"><input class=\"sk-toggleable__control sk-hidden--visually\" id=\"sk-estimator-id-1\" type=\"checkbox\" ><label for=\"sk-estimator-id-1\" class=\"sk-toggleable__label sk-toggleable__label-arrow\">VotingClassifier</label><div class=\"sk-toggleable__content\"><pre>VotingClassifier(estimators=[(&#x27;rf&#x27;,\n",
       "                              RandomForestClassifier(max_depth=20,\n",
       "                                                     n_estimators=500)),\n",
       "                             (&#x27;svc&#x27;, SVC(C=10)),\n",
       "                             (&#x27;lr&#x27;,\n",
       "                              LogisticRegression(multi_class=&#x27;multinomial&#x27;))])</pre></div></div></div><div class=\"sk-parallel\"><div class=\"sk-parallel-item\"><div class=\"sk-item\"><div class=\"sk-label-container\"><div class=\"sk-label sk-toggleable\"><label>rf</label></div></div><div class=\"sk-serial\"><div class=\"sk-item\"><div class=\"sk-estimator sk-toggleable\"><input class=\"sk-toggleable__control sk-hidden--visually\" id=\"sk-estimator-id-2\" type=\"checkbox\" ><label for=\"sk-estimator-id-2\" class=\"sk-toggleable__label sk-toggleable__label-arrow\">RandomForestClassifier</label><div class=\"sk-toggleable__content\"><pre>RandomForestClassifier(max_depth=20, n_estimators=500)</pre></div></div></div></div></div></div><div class=\"sk-parallel-item\"><div class=\"sk-item\"><div class=\"sk-label-container\"><div class=\"sk-label sk-toggleable\"><label>svc</label></div></div><div class=\"sk-serial\"><div class=\"sk-item\"><div class=\"sk-estimator sk-toggleable\"><input class=\"sk-toggleable__control sk-hidden--visually\" id=\"sk-estimator-id-3\" type=\"checkbox\" ><label for=\"sk-estimator-id-3\" class=\"sk-toggleable__label sk-toggleable__label-arrow\">SVC</label><div class=\"sk-toggleable__content\"><pre>SVC(C=10)</pre></div></div></div></div></div></div><div class=\"sk-parallel-item\"><div class=\"sk-item\"><div class=\"sk-label-container\"><div class=\"sk-label sk-toggleable\"><label>lr</label></div></div><div class=\"sk-serial\"><div class=\"sk-item\"><div class=\"sk-estimator sk-toggleable\"><input class=\"sk-toggleable__control sk-hidden--visually\" id=\"sk-estimator-id-4\" type=\"checkbox\" ><label for=\"sk-estimator-id-4\" class=\"sk-toggleable__label sk-toggleable__label-arrow\">LogisticRegression</label><div class=\"sk-toggleable__content\"><pre>LogisticRegression(multi_class=&#x27;multinomial&#x27;)</pre></div></div></div></div></div></div></div></div></div></div>"
      ],
      "text/plain": [
       "VotingClassifier(estimators=[('rf',\n",
       "                              RandomForestClassifier(max_depth=20,\n",
       "                                                     n_estimators=500)),\n",
       "                             ('svc', SVC(C=10)),\n",
       "                             ('lr',\n",
       "                              LogisticRegression(multi_class='multinomial'))])"
      ]
     },
     "execution_count": 10,
     "metadata": {},
     "output_type": "execute_result"
    }
   ],
   "source": [
    "lr_model = LogisticRegression(multi_class='multinomial')\n",
    "svm_clf = SVC(C = 10, gamma = 'scale' , kernel = 'rbf')\n",
    "rf_clf = RandomForestClassifier( max_depth = 20, n_estimators = 500)\n",
    "voting_clf=VotingClassifier(estimators=[('rf',rf_clf ) ,('svc',svm_clf),('lr',lr_model)],voting='hard')\n",
    "voting_clf.fit(X_resampled, Y_resampled)"
   ]
  },
  {
   "cell_type": "code",
   "execution_count": 11,
   "id": "282748f0",
   "metadata": {
    "execution": {
     "iopub.execute_input": "2024-09-08T18:14:11.155181Z",
     "iopub.status.busy": "2024-09-08T18:14:11.154823Z",
     "iopub.status.idle": "2024-09-08T18:16:07.524740Z",
     "shell.execute_reply": "2024-09-08T18:16:07.523296Z"
    },
    "papermill": {
     "duration": 116.405717,
     "end_time": "2024-09-08T18:16:07.530731",
     "exception": false,
     "start_time": "2024-09-08T18:14:11.125014",
     "status": "completed"
    },
    "tags": []
   },
   "outputs": [
    {
     "name": "stdout",
     "output_type": "stream",
     "text": [
      "RandomForestClassifier 0.7675840978593272\n",
      "SVC 0.9051987767584098\n"
     ]
    },
    {
     "name": "stderr",
     "output_type": "stream",
     "text": [
      "/opt/conda/lib/python3.10/site-packages/sklearn/linear_model/_logistic.py:458: ConvergenceWarning: lbfgs failed to converge (status=1):\n",
      "STOP: TOTAL NO. of ITERATIONS REACHED LIMIT.\n",
      "\n",
      "Increase the number of iterations (max_iter) or scale the data as shown in:\n",
      "    https://scikit-learn.org/stable/modules/preprocessing.html\n",
      "Please also refer to the documentation for alternative solver options:\n",
      "    https://scikit-learn.org/stable/modules/linear_model.html#logistic-regression\n",
      "  n_iter_i = _check_optimize_result(\n"
     ]
    },
    {
     "name": "stdout",
     "output_type": "stream",
     "text": [
      "LogisticRegression 0.8256880733944955\n"
     ]
    },
    {
     "name": "stderr",
     "output_type": "stream",
     "text": [
      "/opt/conda/lib/python3.10/site-packages/sklearn/linear_model/_logistic.py:458: ConvergenceWarning: lbfgs failed to converge (status=1):\n",
      "STOP: TOTAL NO. of ITERATIONS REACHED LIMIT.\n",
      "\n",
      "Increase the number of iterations (max_iter) or scale the data as shown in:\n",
      "    https://scikit-learn.org/stable/modules/preprocessing.html\n",
      "Please also refer to the documentation for alternative solver options:\n",
      "    https://scikit-learn.org/stable/modules/linear_model.html#logistic-regression\n",
      "  n_iter_i = _check_optimize_result(\n"
     ]
    },
    {
     "name": "stdout",
     "output_type": "stream",
     "text": [
      "VotingClassifier 0.8501529051987767\n"
     ]
    }
   ],
   "source": [
    "from sklearn.metrics import accuracy_score \n",
    "for clf in(rf_clf,svm_clf,lr_model ,voting_clf):\n",
    "    clf.fit(X_resampled, Y_resampled)\n",
    "    y_pred=clf.predict(pca_test)\n",
    "    print(clf.__class__.__name__, accuracy_score(Y_test, y_pred))"
   ]
  },
  {
   "cell_type": "code",
   "execution_count": 12,
   "id": "49a8ece4",
   "metadata": {
    "execution": {
     "iopub.execute_input": "2024-09-08T18:16:07.658328Z",
     "iopub.status.busy": "2024-09-08T18:16:07.657936Z",
     "iopub.status.idle": "2024-09-08T18:16:17.635919Z",
     "shell.execute_reply": "2024-09-08T18:16:17.632291Z"
    },
    "papermill": {
     "duration": 10.038396,
     "end_time": "2024-09-08T18:16:17.640148",
     "exception": false,
     "start_time": "2024-09-08T18:16:07.601752",
     "status": "completed"
    },
    "tags": []
   },
   "outputs": [
    {
     "name": "stdout",
     "output_type": "stream",
     "text": [
      "Training Score: 0.9994054696789536\n"
     ]
    }
   ],
   "source": [
    "\n",
    "train_accuracy = voting_clf.score(X_resampled, Y_resampled)\n",
    "print(\"Training Score:\", train_accuracy)"
   ]
  },
  {
   "cell_type": "code",
   "execution_count": 13,
   "id": "c2cf2250",
   "metadata": {
    "execution": {
     "iopub.execute_input": "2024-09-08T18:16:17.728734Z",
     "iopub.status.busy": "2024-09-08T18:16:17.728347Z",
     "iopub.status.idle": "2024-09-08T18:16:19.699910Z",
     "shell.execute_reply": "2024-09-08T18:16:19.698392Z"
    },
    "papermill": {
     "duration": 2.00549,
     "end_time": "2024-09-08T18:16:19.704134",
     "exception": false,
     "start_time": "2024-09-08T18:16:17.698644",
     "status": "completed"
    },
    "tags": []
   },
   "outputs": [
    {
     "name": "stdout",
     "output_type": "stream",
     "text": [
      "Testing Score: 0.8501529051987767\n",
      "Confusion Matrix:\n",
      " [[77 12  3  1]\n",
      " [12 79  2  3]\n",
      " [ 5  5 35  6]\n",
      " [ 0  0  0 87]]\n",
      "Classification Report:\n",
      "                   precision    recall  f1-score   support\n",
      "\n",
      "    glioma_tumor       0.82      0.83      0.82        93\n",
      "meningioma_tumor       0.82      0.82      0.82        96\n",
      "        no_tumor       0.88      0.69      0.77        51\n",
      " pituitary_tumor       0.90      1.00      0.95        87\n",
      "\n",
      "        accuracy                           0.85       327\n",
      "       macro avg       0.85      0.83      0.84       327\n",
      "    weighted avg       0.85      0.85      0.85       327\n",
      "\n"
     ]
    }
   ],
   "source": [
    "test_score = voting_clf.score(pca_test, Y_test)\n",
    "print(\"Testing Score:\", test_score)\n",
    "y_pred = voting_clf.predict(pca_test)\n",
    "conf_matrix = confusion_matrix(Y_test, y_pred)\n",
    "class_report = classification_report(Y_test, y_pred)\n",
    "\n",
    "print(\"Confusion Matrix:\\n\", conf_matrix)\n",
    "print(\"Classification Report:\\n\", class_report)"
   ]
  },
  {
   "cell_type": "code",
   "execution_count": 14,
   "id": "d19a7c99",
   "metadata": {
    "execution": {
     "iopub.execute_input": "2024-09-08T18:16:19.812935Z",
     "iopub.status.busy": "2024-09-08T18:16:19.812600Z",
     "iopub.status.idle": "2024-09-08T18:16:21.748547Z",
     "shell.execute_reply": "2024-09-08T18:16:21.747506Z"
    },
    "papermill": {
     "duration": 1.981108,
     "end_time": "2024-09-08T18:16:21.751216",
     "exception": false,
     "start_time": "2024-09-08T18:16:19.770108",
     "status": "completed"
    },
    "tags": []
   },
   "outputs": [
    {
     "data": {
      "image/png": "[encoded data removed]",
      "text/plain": [
       "<Figure size 640x480 with 2 Axes>"
      ]
     },
     "metadata": {},
     "output_type": "display_data"
    }
   ],
   "source": [
    "# Predict the response for test dataset\n",
    "y_pred = voting_clf.predict(pca_test)\n",
    "\n",
    "# Define the custom color map\n",
    "custom_colors = ['#01411C','#4B6F44','#4F7942','#74C365','#D0F0C0']\n",
    "custom_cmap = matplotlib.colors.ListedColormap(custom_colors)\n",
    "\n",
    "# Calculate confusion matrix\n",
    "cm = confusion_matrix(Y_test, y_pred)\n",
    "\n",
    "# Create a display object with the custom color map\n",
    "disp = ConfusionMatrixDisplay(confusion_matrix=cm, display_labels = ['glioma_tumor', 'meningioma_tumor', 'no_tumor', 'pituitary_tumor'])\n",
    "\n",
    "# Plot the confusion matrix\n",
    "fig, ax = plt.subplots()\n",
    "disp.plot(cmap=custom_cmap, ax=ax)\n",
    "\n",
    "# Set the title and axis labels\n",
    "fig.text(s='Heatmap of the Confusion Matrix',size=18,fontweight='bold',\n",
    "             fontname='monospace',y=0.92,x=0.10,alpha=0.8)\n",
    "\n",
    "# Rotate x-axis labels\n",
    "plt.xticks(rotation=45)\n",
    "\n",
    "# Save the figure\n",
    "plt.savefig('CM SVM.png', dpi=300, bbox_inches='tight')\n",
    "\n",
    "# Show the plot\n",
    "plt.show()"
   ]
  },
  {
   "cell_type": "markdown",
   "id": "f2a0d98a",
   "metadata": {
    "papermill": {
     "duration": 0.078919,
     "end_time": "2024-09-08T18:16:21.859971",
     "exception": false,
     "start_time": "2024-09-08T18:16:21.781052",
     "status": "completed"
    },
    "tags": []
   },
   "source": [
    "# bagging\n"
   ]
  },
  {
   "cell_type": "markdown",
   "id": "5c8900cc",
   "metadata": {
    "papermill": {
     "duration": 0.030167,
     "end_time": "2024-09-08T18:16:21.920175",
     "exception": false,
     "start_time": "2024-09-08T18:16:21.890008",
     "status": "completed"
    },
    "tags": []
   },
   "source": [
    "An alternative method is to train each predictor on a different random subset of the training set using the same training methodology. This technique is often to as \"bagging,\" which is short for \"bootstrap aggregating,\" when sampling is done with replacement. Pasting is the term for sampling that is done without a replacement.\n"
   ]
  },
  {
   "cell_type": "code",
   "execution_count": 15,
   "id": "cfb9e7f7",
   "metadata": {
    "execution": {
     "iopub.execute_input": "2024-09-08T18:16:21.984480Z",
     "iopub.status.busy": "2024-09-08T18:16:21.983803Z",
     "iopub.status.idle": "2024-09-08T18:19:03.722254Z",
     "shell.execute_reply": "2024-09-08T18:19:03.720846Z"
    },
    "papermill": {
     "duration": 161.803514,
     "end_time": "2024-09-08T18:19:03.754853",
     "exception": false,
     "start_time": "2024-09-08T18:16:21.951339",
     "status": "completed"
    },
    "tags": []
   },
   "outputs": [
    {
     "name": "stderr",
     "output_type": "stream",
     "text": [
      "/opt/conda/lib/python3.10/site-packages/sklearn/ensemble/_base.py:166: FutureWarning: `base_estimator` was renamed to `estimator` in version 1.2 and will be removed in 1.4.\n",
      "  warnings.warn(\n",
      "/opt/conda/lib/python3.10/site-packages/joblib/externals/loky/backend/fork_exec.py:38: RuntimeWarning: os.fork() was called. os.fork() is incompatible with multithreaded code, and JAX is multithreaded, so this will likely lead to a deadlock.\n",
      "  pid = os.fork()\n"
     ]
    },
    {
     "name": "stdout",
     "output_type": "stream",
     "text": [
      "Accuracy: 0.8960244648318043\n"
     ]
    }
   ],
   "source": [
    "\n",
    "svm_clf = SVC(C = 10, gamma = 'scale' , kernel = 'rbf')\n",
    "bag_clf = BaggingClassifier(\n",
    "    base_estimator=svm_clf,\n",
    "    n_estimators=100,\n",
    "    max_samples=1.0,\n",
    "    bootstrap=True,\n",
    "    n_jobs=-1\n",
    ")\n",
    "\n",
    "bag_clf.fit(X_resampled, Y_resampled)\n",
    "\n",
    "y_pred = bag_clf.predict(pca_test)\n",
    "\n",
    "accuracy = accuracy_score(Y_test, y_pred)\n",
    "print(f\"Accuracy: {accuracy}\")"
   ]
  },
  {
   "cell_type": "code",
   "execution_count": 16,
   "id": "682877ed",
   "metadata": {
    "execution": {
     "iopub.execute_input": "2024-09-08T18:19:03.818251Z",
     "iopub.status.busy": "2024-09-08T18:19:03.817894Z",
     "iopub.status.idle": "2024-09-08T18:19:12.615159Z",
     "shell.execute_reply": "2024-09-08T18:19:12.613881Z"
    },
    "papermill": {
     "duration": 8.833267,
     "end_time": "2024-09-08T18:19:12.618511",
     "exception": false,
     "start_time": "2024-09-08T18:19:03.785244",
     "status": "completed"
    },
    "tags": []
   },
   "outputs": [
    {
     "name": "stdout",
     "output_type": "stream",
     "text": [
      "Training Score: 0.9994054696789536\n"
     ]
    }
   ],
   "source": [
    "train_accuracy = voting_clf.score(X_resampled, Y_resampled)\n",
    "print(\"Training Score:\", train_accuracy)"
   ]
  },
  {
   "cell_type": "code",
   "execution_count": 17,
   "id": "6bd854f2",
   "metadata": {
    "execution": {
     "iopub.execute_input": "2024-09-08T18:19:12.713245Z",
     "iopub.status.busy": "2024-09-08T18:19:12.712874Z",
     "iopub.status.idle": "2024-09-08T18:20:17.583707Z",
     "shell.execute_reply": "2024-09-08T18:20:17.582744Z"
    },
    "papermill": {
     "duration": 64.93927,
     "end_time": "2024-09-08T18:20:17.617853",
     "exception": false,
     "start_time": "2024-09-08T18:19:12.678583",
     "status": "completed"
    },
    "tags": []
   },
   "outputs": [
    {
     "name": "stdout",
     "output_type": "stream",
     "text": [
      "Testing Score: 0.8960244648318043\n",
      "Confusion Matrix:\n",
      " [[76 13  3  1]\n",
      " [ 2 89  3  2]\n",
      " [ 0  4 41  6]\n",
      " [ 0  0  0 87]]\n",
      "Classification Report:\n",
      "                   precision    recall  f1-score   support\n",
      "\n",
      "    glioma_tumor       0.97      0.82      0.89        93\n",
      "meningioma_tumor       0.84      0.93      0.88        96\n",
      "        no_tumor       0.87      0.80      0.84        51\n",
      " pituitary_tumor       0.91      1.00      0.95        87\n",
      "\n",
      "        accuracy                           0.90       327\n",
      "       macro avg       0.90      0.89      0.89       327\n",
      "    weighted avg       0.90      0.90      0.89       327\n",
      "\n"
     ]
    }
   ],
   "source": [
    "test_score = bag_clf.score(pca_test, Y_test)\n",
    "print(\"Testing Score:\", test_score)\n",
    "y_pred = bag_clf.predict(pca_test)\n",
    "conf_matrix = confusion_matrix(Y_test, y_pred)\n",
    "class_report = classification_report(Y_test, y_pred)\n",
    "\n",
    "print(\"Confusion Matrix:\\n\", conf_matrix)\n",
    "print(\"Classification Report:\\n\", class_report)"
   ]
  },
  {
   "cell_type": "code",
   "execution_count": 18,
   "id": "efa2985d",
   "metadata": {
    "execution": {
     "iopub.execute_input": "2024-09-08T18:20:17.679657Z",
     "iopub.status.busy": "2024-09-08T18:20:17.678881Z",
     "iopub.status.idle": "2024-09-08T18:20:50.279534Z",
     "shell.execute_reply": "2024-09-08T18:20:50.278651Z"
    },
    "papermill": {
     "duration": 32.664824,
     "end_time": "2024-09-08T18:20:50.312596",
     "exception": false,
     "start_time": "2024-09-08T18:20:17.647772",
     "status": "completed"
    },
    "tags": []
   },
   "outputs": [
    {
     "data": {
      "image/png": "[encoded data removed]",
      "text/plain": [
       "<Figure size 640x480 with 2 Axes>"
      ]
     },
     "metadata": {},
     "output_type": "display_data"
    }
   ],
   "source": [
    "# Predict the response for test dataset\n",
    "y_pred = bag_clf.predict(pca_test)\n",
    "\n",
    "# Define the custom color map\n",
    "custom_colors = ['#01411C','#4B6F44','#4F7942','#74C365','#D0F0C0']\n",
    "custom_cmap = matplotlib.colors.ListedColormap(custom_colors)\n",
    "\n",
    "# Calculate confusion matrix\n",
    "cm = confusion_matrix(Y_test, y_pred)\n",
    "\n",
    "# Create a display object with the custom color map\n",
    "disp = ConfusionMatrixDisplay(confusion_matrix=cm, display_labels = ['glioma_tumor', 'meningioma_tumor', 'no_tumor', 'pituitary_tumor'])\n",
    "\n",
    "# Plot the confusion matrix\n",
    "fig, ax = plt.subplots()\n",
    "disp.plot(cmap=custom_cmap, ax=ax)\n",
    "\n",
    "# Set the title and axis labels\n",
    "fig.text(s='Heatmap of the Confusion Matrix',size=18,fontweight='bold',\n",
    "             fontname='monospace',y=0.92,x=0.10,alpha=0.8)\n",
    "\n",
    "# Rotate x-axis labels\n",
    "plt.xticks(rotation=45)\n",
    "\n",
    "# Save the figure\n",
    "plt.savefig('CM SVM.png', dpi=300, bbox_inches='tight')\n",
    "\n",
    "# Show the plot\n",
    "plt.show()"
   ]
  },
  {
   "cell_type": "markdown",
   "id": "f0341fff",
   "metadata": {
    "papermill": {
     "duration": 0.030534,
     "end_time": "2024-09-08T18:20:50.372347",
     "exception": false,
     "start_time": "2024-09-08T18:20:50.341813",
     "status": "completed"
    },
    "tags": []
   },
   "source": [
    "The dataset is relatively small, so dividing it into different subsets results in poor accuracy. Therefore, I set max_samples to 1.0 to train on the entire dataset."
   ]
  },
  {
   "cell_type": "markdown",
   "id": "15212d98",
   "metadata": {
    "papermill": {
     "duration": 0.036828,
     "end_time": "2024-09-08T18:20:50.438785",
     "exception": false,
     "start_time": "2024-09-08T18:20:50.401957",
     "status": "completed"
    },
    "tags": []
   },
   "source": [
    "# Boosting Algorithm\n"
   ]
  },
  {
   "cell_type": "markdown",
   "id": "2fdb7c44",
   "metadata": {
    "papermill": {
     "duration": 0.030003,
     "end_time": "2024-09-08T18:20:50.502303",
     "exception": false,
     "start_time": "2024-09-08T18:20:50.472300",
     "status": "completed"
    },
    "tags": []
   },
   "source": [
    "One way for a new predictor to correct its predecessor is to pay a bit more attention to the training instances that the predecessor underfitted. This results in new predictors focusing more and more on the hard cases. ."
   ]
  },
  {
   "cell_type": "markdown",
   "id": "5fec355f",
   "metadata": {
    "papermill": {
     "duration": 0.029611,
     "end_time": "2024-09-08T18:20:50.561702",
     "exception": false,
     "start_time": "2024-09-08T18:20:50.532091",
     "status": "completed"
    },
    "tags": []
   },
   "source": [
    "# 1 adaBoost"
   ]
  },
  {
   "cell_type": "code",
   "execution_count": 19,
   "id": "1f41e03b",
   "metadata": {
    "execution": {
     "iopub.execute_input": "2024-09-08T18:20:50.639839Z",
     "iopub.status.busy": "2024-09-08T18:20:50.638495Z",
     "iopub.status.idle": "2024-09-08T18:35:11.907702Z",
     "shell.execute_reply": "2024-09-08T18:35:11.906691Z"
    },
    "papermill": {
     "duration": 861.342346,
     "end_time": "2024-09-08T18:35:11.941760",
     "exception": false,
     "start_time": "2024-09-08T18:20:50.599414",
     "status": "completed"
    },
    "tags": []
   },
   "outputs": [
    {
     "name": "stderr",
     "output_type": "stream",
     "text": [
      "/opt/conda/lib/python3.10/site-packages/sklearn/ensemble/_base.py:166: FutureWarning: `base_estimator` was renamed to `estimator` in version 1.2 and will be removed in 1.4.\n",
      "  warnings.warn(\n"
     ]
    },
    {
     "name": "stdout",
     "output_type": "stream",
     "text": [
      "Accuracy: 0.746177370030581\n"
     ]
    }
   ],
   "source": [
    "\n",
    "svm_clf = SVC(probability=True)  # Set probability=True for SAMME and SAMME.R algorithms\n",
    "ada_clf = AdaBoostClassifier(\n",
    "    base_estimator=svm_clf,\n",
    "    n_estimators=15,\n",
    "    algorithm=\"SAMME.R\",  # Use SAMME.R for multi-class classification\n",
    "    learning_rate=0.5,\n",
    "    \n",
    ")\n",
    "\n",
    "ada_clf.fit(X_resampled, Y_resampled)\n",
    "\n",
    "y_pred = ada_clf.predict(pca_test)\n",
    "\n",
    "accuracy = accuracy_score(Y_test, y_pred)\n",
    "print(f\"Accuracy: {accuracy}\")"
   ]
  },
  {
   "cell_type": "code",
   "execution_count": 20,
   "id": "d8ec29cd",
   "metadata": {
    "execution": {
     "iopub.execute_input": "2024-09-08T18:35:12.003740Z",
     "iopub.status.busy": "2024-09-08T18:35:12.002986Z",
     "iopub.status.idle": "2024-09-08T18:35:21.143795Z",
     "shell.execute_reply": "2024-09-08T18:35:21.142677Z"
    },
    "papermill": {
     "duration": 9.175457,
     "end_time": "2024-09-08T18:35:21.147532",
     "exception": false,
     "start_time": "2024-09-08T18:35:11.972075",
     "status": "completed"
    },
    "tags": []
   },
   "outputs": [
    {
     "name": "stdout",
     "output_type": "stream",
     "text": [
      "Training Score: 0.9994054696789536\n"
     ]
    }
   ],
   "source": [
    "train_accuracy = voting_clf.score(X_resampled, Y_resampled)\n",
    "print(\"Training Score:\", train_accuracy)"
   ]
  },
  {
   "cell_type": "code",
   "execution_count": 21,
   "id": "16a7da43",
   "metadata": {
    "execution": {
     "iopub.execute_input": "2024-09-08T18:35:21.257295Z",
     "iopub.status.busy": "2024-09-08T18:35:21.256343Z",
     "iopub.status.idle": "2024-09-08T18:36:04.265004Z",
     "shell.execute_reply": "2024-09-08T18:36:04.263971Z"
    },
    "papermill": {
     "duration": 43.077978,
     "end_time": "2024-09-08T18:36:04.300559",
     "exception": false,
     "start_time": "2024-09-08T18:35:21.222581",
     "status": "completed"
    },
    "tags": []
   },
   "outputs": [
    {
     "name": "stdout",
     "output_type": "stream",
     "text": [
      "Testing Score: 0.746177370030581\n",
      "Confusion Matrix:\n",
      " [[67 15  5  6]\n",
      " [33 55  2  6]\n",
      " [ 3  5 36  7]\n",
      " [ 1  0  0 86]]\n",
      "Classification Report:\n",
      "                   precision    recall  f1-score   support\n",
      "\n",
      "    glioma_tumor       0.64      0.72      0.68        93\n",
      "meningioma_tumor       0.73      0.57      0.64        96\n",
      "        no_tumor       0.84      0.71      0.77        51\n",
      " pituitary_tumor       0.82      0.99      0.90        87\n",
      "\n",
      "        accuracy                           0.75       327\n",
      "       macro avg       0.76      0.75      0.75       327\n",
      "    weighted avg       0.75      0.75      0.74       327\n",
      "\n"
     ]
    }
   ],
   "source": [
    "test_score = ada_clf.score(pca_test, Y_test)\n",
    "print(\"Testing Score:\", test_score)\n",
    "y_pred = ada_clf.predict(pca_test)\n",
    "conf_matrix = confusion_matrix(Y_test, y_pred)\n",
    "class_report = classification_report(Y_test, y_pred)\n",
    "\n",
    "print(\"Confusion Matrix:\\n\", conf_matrix)\n",
    "print(\"Classification Report:\\n\", class_report)"
   ]
  },
  {
   "cell_type": "code",
   "execution_count": 22,
   "id": "385047cd",
   "metadata": {
    "execution": {
     "iopub.execute_input": "2024-09-08T18:36:04.364302Z",
     "iopub.status.busy": "2024-09-08T18:36:04.363931Z",
     "iopub.status.idle": "2024-09-08T18:36:26.869840Z",
     "shell.execute_reply": "2024-09-08T18:36:26.868840Z"
    },
    "papermill": {
     "duration": 22.539716,
     "end_time": "2024-09-08T18:36:26.872118",
     "exception": false,
     "start_time": "2024-09-08T18:36:04.332402",
     "status": "completed"
    },
    "tags": []
   },
   "outputs": [
    {
     "data": {
      "image/png": "[encoded data removed]",
      "text/plain": [
       "<Figure size 640x480 with 2 Axes>"
      ]
     },
     "metadata": {},
     "output_type": "display_data"
    }
   ],
   "source": [
    "# Predict the response for test dataset\n",
    "y_pred = ada_clf.predict(pca_test)\n",
    "\n",
    "# Define the custom color map\n",
    "custom_colors = ['#01411C','#4B6F44','#4F7942','#74C365','#D0F0C0']\n",
    "custom_cmap = matplotlib.colors.ListedColormap(custom_colors)\n",
    "\n",
    "# Calculate confusion matrix\n",
    "cm = confusion_matrix(Y_test, y_pred)\n",
    "\n",
    "# Create a display object with the custom color map\n",
    "disp = ConfusionMatrixDisplay(confusion_matrix=cm, display_labels = ['glioma_tumor', 'meningioma_tumor', 'no_tumor', 'pituitary_tumor'])\n",
    "\n",
    "# Plot the confusion matrix\n",
    "fig, ax = plt.subplots()\n",
    "disp.plot(cmap=custom_cmap, ax=ax)\n",
    "\n",
    "# Set the title and axis labels\n",
    "fig.text(s='Heatmap of the Confusion Matrix',size=18,fontweight='bold',\n",
    "             fontname='monospace',y=0.92,x=0.10,alpha=0.8)\n",
    "\n",
    "# Rotate x-axis labels\n",
    "plt.xticks(rotation=45)\n",
    "\n",
    "# Save the figure\n",
    "plt.savefig('CM SVM.png', dpi=300, bbox_inches='tight')\n",
    "\n",
    "# Show the plot\n",
    "plt.show()"
   ]
  },
  {
   "cell_type": "markdown",
   "id": "ec38f2a7",
   "metadata": {
    "papermill": {
     "duration": 0.031973,
     "end_time": "2024-09-08T18:36:26.937320",
     "exception": false,
     "start_time": "2024-09-08T18:36:26.905347",
     "status": "completed"
    },
    "tags": []
   },
   "source": [
    "# 2 gradient Boosting"
   ]
  },
  {
   "cell_type": "code",
   "execution_count": 23,
   "id": "0eb4b090",
   "metadata": {
    "execution": {
     "iopub.execute_input": "2024-09-08T18:36:27.001605Z",
     "iopub.status.busy": "2024-09-08T18:36:27.000878Z",
     "iopub.status.idle": "2024-09-08T18:40:25.429870Z",
     "shell.execute_reply": "2024-09-08T18:40:25.428784Z"
    },
    "papermill": {
     "duration": 238.497294,
     "end_time": "2024-09-08T18:40:25.464842",
     "exception": false,
     "start_time": "2024-09-08T18:36:26.967548",
     "status": "completed"
    },
    "tags": []
   },
   "outputs": [
    {
     "name": "stdout",
     "output_type": "stream",
     "text": [
      "Accuracy: 0.7522935779816514\n"
     ]
    }
   ],
   "source": [
    "\n",
    "gbc = GradientBoostingClassifier( n_estimators=40 )\n",
    "gbc.fit(X_resampled, Y_resampled)\n",
    "y_pred = gbc.predict(pca_test)\n",
    "\n",
    "accuracy = accuracy_score(Y_test, y_pred)\n",
    "print(f\"Accuracy: {accuracy}\")"
   ]
  },
  {
   "cell_type": "code",
   "execution_count": 24,
   "id": "ac690e64",
   "metadata": {
    "execution": {
     "iopub.execute_input": "2024-09-08T18:40:25.528977Z",
     "iopub.status.busy": "2024-09-08T18:40:25.528205Z",
     "iopub.status.idle": "2024-09-08T18:40:25.559098Z",
     "shell.execute_reply": "2024-09-08T18:40:25.557932Z"
    },
    "papermill": {
     "duration": 0.065425,
     "end_time": "2024-09-08T18:40:25.561459",
     "exception": false,
     "start_time": "2024-09-08T18:40:25.496034",
     "status": "completed"
    },
    "tags": []
   },
   "outputs": [
    {
     "name": "stdout",
     "output_type": "stream",
     "text": [
      "Training Score: 0.9016052318668252\n"
     ]
    }
   ],
   "source": [
    "# Calculate accuracy on training and validation sets\n",
    "train_accuracy = gbc.score(X_resampled, Y_resampled)\n",
    "print(\"Training Score:\", train_accuracy)"
   ]
  },
  {
   "cell_type": "code",
   "execution_count": 25,
   "id": "e511ce70",
   "metadata": {
    "execution": {
     "iopub.execute_input": "2024-09-08T18:40:25.632118Z",
     "iopub.status.busy": "2024-09-08T18:40:25.631241Z",
     "iopub.status.idle": "2024-09-08T18:40:25.658239Z",
     "shell.execute_reply": "2024-09-08T18:40:25.656919Z"
    },
    "papermill": {
     "duration": 0.064275,
     "end_time": "2024-09-08T18:40:25.660840",
     "exception": false,
     "start_time": "2024-09-08T18:40:25.596565",
     "status": "completed"
    },
    "tags": []
   },
   "outputs": [
    {
     "name": "stdout",
     "output_type": "stream",
     "text": [
      "Testing Score: 0.7522935779816514\n",
      "Confusion Matrix:\n",
      " [[59 21  4  9]\n",
      " [12 74  3  7]\n",
      " [ 6  8 30  7]\n",
      " [ 1  3  0 83]]\n",
      "Classification Report:\n",
      "                   precision    recall  f1-score   support\n",
      "\n",
      "    glioma_tumor       0.76      0.63      0.69        93\n",
      "meningioma_tumor       0.70      0.77      0.73        96\n",
      "        no_tumor       0.81      0.59      0.68        51\n",
      " pituitary_tumor       0.78      0.95      0.86        87\n",
      "\n",
      "        accuracy                           0.75       327\n",
      "       macro avg       0.76      0.74      0.74       327\n",
      "    weighted avg       0.75      0.75      0.75       327\n",
      "\n"
     ]
    }
   ],
   "source": [
    "test_score = gbc.score(pca_test, Y_test)\n",
    "print(\"Testing Score:\", test_score)\n",
    "y_pred = gbc.predict(pca_test)\n",
    "conf_matrix = confusion_matrix(Y_test, y_pred)\n",
    "class_report = classification_report(Y_test, y_pred)\n",
    "\n",
    "print(\"Confusion Matrix:\\n\", conf_matrix)\n",
    "print(\"Classification Report:\\n\", class_report)"
   ]
  },
  {
   "cell_type": "code",
   "execution_count": 26,
   "id": "48e8bcf5",
   "metadata": {
    "execution": {
     "iopub.execute_input": "2024-09-08T18:40:25.731636Z",
     "iopub.status.busy": "2024-09-08T18:40:25.731236Z",
     "iopub.status.idle": "2024-09-08T18:40:26.681395Z",
     "shell.execute_reply": "2024-09-08T18:40:26.680468Z"
    },
    "papermill": {
     "duration": 0.986428,
     "end_time": "2024-09-08T18:40:26.684193",
     "exception": false,
     "start_time": "2024-09-08T18:40:25.697765",
     "status": "completed"
    },
    "tags": []
   },
   "outputs": [
    {
     "data": {
      "image/png": "[encoded data removed]",
      "text/plain": [
       "<Figure size 640x480 with 2 Axes>"
      ]
     },
     "metadata": {},
     "output_type": "display_data"
    }
   ],
   "source": [
    "# Predict the response for test dataset\n",
    "y_pred = gbc.predict(pca_test)\n",
    "\n",
    "# Define the custom color map\n",
    "custom_colors = ['#01411C','#4B6F44','#4F7942','#74C365','#D0F0C0']\n",
    "custom_cmap = matplotlib.colors.ListedColormap(custom_colors)\n",
    "\n",
    "# Calculate confusion matrix\n",
    "cm = confusion_matrix(Y_test, y_pred)\n",
    "\n",
    "# Create a display object with the custom color map\n",
    "disp = ConfusionMatrixDisplay(confusion_matrix=cm, display_labels = ['glioma_tumor', 'meningioma_tumor', 'no_tumor', 'pituitary_tumor'])\n",
    "\n",
    "# Plot the confusion matrix\n",
    "fig, ax = plt.subplots()\n",
    "disp.plot(cmap=custom_cmap, ax=ax)\n",
    "\n",
    "# Set the title and axis labels\n",
    "fig.text(s='Heatmap of the Confusion Matrix',size=18,fontweight='bold',\n",
    "             fontname='monospace',y=0.92,x=0.10,alpha=0.8)\n",
    "\n",
    "# Rotate x-axis labels\n",
    "plt.xticks(rotation=45)\n",
    "\n",
    "# Save the figure\n",
    "plt.savefig('CM SVM.png', dpi=300, bbox_inches='tight')\n",
    "\n",
    "# Show the plot\n",
    "plt.show()"
   ]
  }
 ],
 "metadata": {
  "kaggle": {
   "accelerator": "gpu",
   "dataSources": [
    {
     "datasetId": 672377,
     "sourceId": 1183165,
     "sourceType": "datasetVersion"
    }
   ],
   "dockerImageVersionId": 30747,
   "isGpuEnabled": true,
   "isInternetEnabled": true,
   "language": "python",
   "sourceType": "notebook"
  },
  "kernelspec": {
   "display_name": "Python 3",
   "language": "python",
   "name": "python3"
  },
  "language_info": {
   "codemirror_mode": {
    "name": "ipython",
    "version": 3
   },
   "file_extension": ".py",
   "mimetype": "text/x-python",
   "name": "python",
   "nbconvert_exporter": "python",
   "pygments_lexer": "ipython3",
   "version": "3.10.13"
  },
  "papermill": {
   "default_parameters": {},
   "duration": 1775.826804,
   "end_time": "2024-09-08T18:40:29.541425",
   "environment_variables": {},
   "exception": null,
   "input_path": "__notebook__.ipynb",
   "output_path": "__notebook__.ipynb",
   "parameters": {},
   "start_time": "2024-09-08T18:10:53.714621",
   "version": "2.5.0"
  }
 },
 "nbformat": 4,
 "nbformat_minor": 5
}
