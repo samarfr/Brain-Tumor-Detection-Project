{
 "cells": [
  {
   "cell_type": "code",
   "execution_count": 1,
   "id": "dc4181fe",
   "metadata": {
    "execution": {
     "iopub.execute_input": "2024-09-07T11:01:38.393171Z",
     "iopub.status.busy": "2024-09-07T11:01:38.392567Z",
     "iopub.status.idle": "2024-09-07T11:01:38.404582Z",
     "shell.execute_reply": "2024-09-07T11:01:38.403495Z"
    },
    "papermill": {
     "duration": 0.02218,
     "end_time": "2024-09-07T11:01:38.406557",
     "exception": false,
     "start_time": "2024-09-07T11:01:38.384377",
     "status": "completed"
    },
    "tags": []
   },
   "outputs": [
    {
     "name": "stdout",
     "output_type": "stream",
     "text": [
      "['brain-tumor-classification-mri']\n"
     ]
    }
   ],
   "source": [
    "import os\n",
    "print(os.listdir('../input'))"
   ]
  },
  {
   "cell_type": "code",
   "execution_count": 2,
   "id": "6ccee333",
   "metadata": {
    "execution": {
     "iopub.execute_input": "2024-09-07T11:01:38.416991Z",
     "iopub.status.busy": "2024-09-07T11:01:38.416704Z",
     "iopub.status.idle": "2024-09-07T11:01:52.535865Z",
     "shell.execute_reply": "2024-09-07T11:01:52.534800Z"
    },
    "papermill": {
     "duration": 14.126941,
     "end_time": "2024-09-07T11:01:52.538427",
     "exception": false,
     "start_time": "2024-09-07T11:01:38.411486",
     "status": "completed"
    },
    "tags": []
   },
   "outputs": [
    {
     "name": "stderr",
     "output_type": "stream",
     "text": [
      "2024-09-07 11:01:41.598868: E external/local_xla/xla/stream_executor/cuda/cuda_dnn.cc:9261] Unable to register cuDNN factory: Attempting to register factory for plugin cuDNN when one has already been registered\n",
      "2024-09-07 11:01:41.598995: E external/local_xla/xla/stream_executor/cuda/cuda_fft.cc:607] Unable to register cuFFT factory: Attempting to register factory for plugin cuFFT when one has already been registered\n",
      "2024-09-07 11:01:41.736292: E external/local_xla/xla/stream_executor/cuda/cuda_blas.cc:1515] Unable to register cuBLAS factory: Attempting to register factory for plugin cuBLAS when one has already been registered\n"
     ]
    }
   ],
   "source": [
    "import numpy as np\n",
    "import os\n",
    "import cv2\n",
    "import matplotlib.pyplot as plt \n",
    "import matplotlib.colors\n",
    "from sklearn.model_selection import train_test_split , GridSearchCV\n",
    "from sklearn.decomposition import PCA\n",
    "from sklearn.svm import SVC\n",
    "from sklearn.metrics import accuracy_score\n",
    "from sklearn.metrics import classification_report, confusion_matrix \n",
    "import tensorflow as tf \n",
    "from tensorflow import keras\n",
    "from tqdm import tqdm \n",
    "from sklearn.utils import shuffle \n",
    "from sklearn.preprocessing import LabelEncoder\n",
    "from imblearn.over_sampling import SMOTE \n",
    "from sklearn.metrics import ConfusionMatrixDisplay\n"
   ]
  },
  {
   "cell_type": "code",
   "execution_count": 3,
   "id": "ab70175d",
   "metadata": {
    "execution": {
     "iopub.execute_input": "2024-09-07T11:01:52.573680Z",
     "iopub.status.busy": "2024-09-07T11:01:52.573116Z",
     "iopub.status.idle": "2024-09-07T11:02:17.098790Z",
     "shell.execute_reply": "2024-09-07T11:02:17.098013Z"
    },
    "papermill": {
     "duration": 24.53488,
     "end_time": "2024-09-07T11:02:17.101152",
     "exception": false,
     "start_time": "2024-09-07T11:01:52.566272",
     "status": "completed"
    },
    "tags": []
   },
   "outputs": [
    {
     "name": "stderr",
     "output_type": "stream",
     "text": [
      "100%|██████████| 826/826 [00:06<00:00, 136.97it/s]\n",
      "100%|██████████| 395/395 [00:02<00:00, 149.98it/s]\n",
      "100%|██████████| 822/822 [00:05<00:00, 146.85it/s]\n",
      "100%|██████████| 827/827 [00:06<00:00, 132.50it/s]\n",
      "100%|██████████| 100/100 [00:00<00:00, 144.34it/s]\n",
      "100%|██████████| 105/105 [00:00<00:00, 191.11it/s]\n",
      "100%|██████████| 115/115 [00:00<00:00, 155.28it/s]\n",
      "100%|██████████| 74/74 [00:00<00:00, 109.96it/s]\n"
     ]
    }
   ],
   "source": [
    "labels = ['glioma_tumor','no_tumor','meningioma_tumor','pituitary_tumor']\n",
    "X_train =[]\n",
    "Y_train =[] \n",
    "image_size =150 \n",
    "for i in labels : \n",
    "    folderPath = os.path.join('../input/brain-tumor-classification-mri','Training',i)\n",
    "    for j in tqdm(os.listdir(folderPath)):\n",
    "        img = cv2.imread(os.path.join(folderPath,j))  \n",
    "        img = cv2.resize(img,(image_size,image_size))\n",
    "        img = img / 255.0  # Normalize the image\n",
    "        X_train.append(img) \n",
    "        Y_train.append(i)\n",
    "\n",
    "for i in labels : \n",
    "    folderPath = os.path.join('../input/brain-tumor-classification-mri','Testing',i)\n",
    "    for j in tqdm(os.listdir(folderPath)):\n",
    "        img = cv2.imread(os.path.join(folderPath,j))  \n",
    "        img = cv2.resize(img,(image_size,image_size))\n",
    "        img = img / 255.0  # Normalize the image\n",
    "        X_train.append(img) \n",
    "        Y_train.append(i) \n",
    "X_train = np.array(X_train) \n",
    "Y_train = np.array(Y_train)\n",
    "\t\t"
   ]
  },
  {
   "cell_type": "code",
   "execution_count": 4,
   "id": "d0a46848",
   "metadata": {
    "execution": {
     "iopub.execute_input": "2024-09-07T11:02:17.151508Z",
     "iopub.status.busy": "2024-09-07T11:02:17.151071Z",
     "iopub.status.idle": "2024-09-07T11:02:17.676733Z",
     "shell.execute_reply": "2024-09-07T11:02:17.674771Z"
    },
    "papermill": {
     "duration": 0.555238,
     "end_time": "2024-09-07T11:02:17.680791",
     "exception": false,
     "start_time": "2024-09-07T11:02:17.125553",
     "status": "completed"
    },
    "tags": []
   },
   "outputs": [],
   "source": [
    "X_train , Y_train = shuffle(X_train ,Y_train,random_state=101)"
   ]
  },
  {
   "cell_type": "code",
   "execution_count": 5,
   "id": "80fba892",
   "metadata": {
    "execution": {
     "iopub.execute_input": "2024-09-07T11:02:17.742255Z",
     "iopub.status.busy": "2024-09-07T11:02:17.741922Z",
     "iopub.status.idle": "2024-09-07T11:02:18.118345Z",
     "shell.execute_reply": "2024-09-07T11:02:18.117354Z"
    },
    "papermill": {
     "duration": 0.403148,
     "end_time": "2024-09-07T11:02:18.120807",
     "exception": false,
     "start_time": "2024-09-07T11:02:17.717659",
     "status": "completed"
    },
    "tags": []
   },
   "outputs": [],
   "source": [
    "X_train,X_test,Y_train,Y_test = train_test_split(X_train,Y_train, test_size=0.1,random_state=101)"
   ]
  },
  {
   "cell_type": "code",
   "execution_count": 6,
   "id": "5f491a4a",
   "metadata": {
    "execution": {
     "iopub.execute_input": "2024-09-07T11:02:18.173135Z",
     "iopub.status.busy": "2024-09-07T11:02:18.172810Z",
     "iopub.status.idle": "2024-09-07T11:03:49.614994Z",
     "shell.execute_reply": "2024-09-07T11:03:49.613660Z"
    },
    "papermill": {
     "duration": 91.470837,
     "end_time": "2024-09-07T11:03:49.618703",
     "exception": false,
     "start_time": "2024-09-07T11:02:18.147866",
     "status": "completed"
    },
    "tags": []
   },
   "outputs": [],
   "source": [
    "# Reshape the 4D arrays to 2D\n",
    "num_samples_train = X_train.shape[0]\n",
    "num_samples_test = X_test.shape[0]\n",
    "\n",
    "X_train_reshaped = X_train.reshape(num_samples_train, -1)  # Flatten images\n",
    "X_test_reshaped = X_test.reshape(num_samples_test, -1)\n",
    "\n",
    "# Apply PCA for dimensionality reduction\n",
    "pca = PCA(n_components=0.98)\n",
    "pca_train = pca.fit_transform(X_train_reshaped)\n",
    "pca_test = pca.transform(X_test_reshaped)\n"
   ]
  },
  {
   "cell_type": "code",
   "execution_count": 7,
   "id": "d4df7c37",
   "metadata": {
    "execution": {
     "iopub.execute_input": "2024-09-07T11:03:49.726673Z",
     "iopub.status.busy": "2024-09-07T11:03:49.726085Z",
     "iopub.status.idle": "2024-09-07T11:03:49.927936Z",
     "shell.execute_reply": "2024-09-07T11:03:49.927190Z"
    },
    "papermill": {
     "duration": 0.260337,
     "end_time": "2024-09-07T11:03:49.930235",
     "exception": false,
     "start_time": "2024-09-07T11:03:49.669898",
     "status": "completed"
    },
    "tags": []
   },
   "outputs": [
    {
     "name": "stdout",
     "output_type": "stream",
     "text": [
      "(3364, 1348)\n",
      "(3364,)\n"
     ]
    }
   ],
   "source": [
    "# Apply SMOTE on the PCA-transformed data\n",
    "smote = SMOTE()\n",
    "X_resampled, Y_resampled = smote.fit_resample(pca_train, Y_train)\n",
    "\n",
    "print(X_resampled.shape)\n",
    "print(Y_resampled.shape)\n"
   ]
  },
  {
   "cell_type": "code",
   "execution_count": 8,
   "id": "a69454cf",
   "metadata": {
    "execution": {
     "iopub.execute_input": "2024-09-07T11:03:49.979853Z",
     "iopub.status.busy": "2024-09-07T11:03:49.979501Z",
     "iopub.status.idle": "2024-09-07T11:03:49.989965Z",
     "shell.execute_reply": "2024-09-07T11:03:49.988884Z"
    },
    "papermill": {
     "duration": 0.036502,
     "end_time": "2024-09-07T11:03:49.991997",
     "exception": false,
     "start_time": "2024-09-07T11:03:49.955495",
     "status": "completed"
    },
    "tags": []
   },
   "outputs": [
    {
     "name": "stdout",
     "output_type": "stream",
     "text": [
      "Original training class distribution: Counter({'meningioma_tumor': 841, 'glioma_tumor': 833, 'pituitary_tumor': 814, 'no_tumor': 449})\n",
      "Resampled class distribution: Counter({'glioma_tumor': 841, 'no_tumor': 841, 'pituitary_tumor': 841, 'meningioma_tumor': 841})\n"
     ]
    }
   ],
   "source": [
    "from collections import Counter\n",
    "train_class_counts = Counter(Y_train)\n",
    "resampled_class_counts = Counter(Y_resampled)\n",
    "\n",
    "print(\"Original training class distribution:\", train_class_counts)\n",
    "print(\"Resampled class distribution:\", resampled_class_counts)"
   ]
  },
  {
   "cell_type": "code",
   "execution_count": 9,
   "id": "8f099d1c",
   "metadata": {
    "execution": {
     "iopub.execute_input": "2024-09-07T11:03:50.039054Z",
     "iopub.status.busy": "2024-09-07T11:03:50.038789Z",
     "iopub.status.idle": "2024-09-07T11:06:23.586059Z",
     "shell.execute_reply": "2024-09-07T11:06:23.584882Z"
    },
    "papermill": {
     "duration": 153.573291,
     "end_time": "2024-09-07T11:06:23.588120",
     "exception": false,
     "start_time": "2024-09-07T11:03:50.014829",
     "status": "completed"
    },
    "tags": []
   },
   "outputs": [
    {
     "name": "stdout",
     "output_type": "stream",
     "text": [
      "Fitting 5 folds for each of 8 candidates, totalling 40 fits\n",
      "[CV] END ....................C=1, gamma=scale, kernel=linear; total time=   2.8s\n",
      "[CV] END ....................C=1, gamma=scale, kernel=linear; total time=   2.8s\n",
      "[CV] END ....................C=1, gamma=scale, kernel=linear; total time=   2.7s\n",
      "[CV] END ....................C=1, gamma=scale, kernel=linear; total time=   2.9s\n",
      "[CV] END ....................C=1, gamma=scale, kernel=linear; total time=   2.9s\n",
      "[CV] END .......................C=1, gamma=scale, kernel=rbf; total time=   4.2s\n",
      "[CV] END .......................C=1, gamma=scale, kernel=rbf; total time=   4.2s\n",
      "[CV] END .......................C=1, gamma=scale, kernel=rbf; total time=   4.4s\n",
      "[CV] END .......................C=1, gamma=scale, kernel=rbf; total time=   4.4s\n",
      "[CV] END .......................C=1, gamma=scale, kernel=rbf; total time=   4.5s\n",
      "[CV] END .....................C=1, gamma=auto, kernel=linear; total time=   2.8s\n",
      "[CV] END .....................C=1, gamma=auto, kernel=linear; total time=   2.8s\n",
      "[CV] END .....................C=1, gamma=auto, kernel=linear; total time=   2.8s\n",
      "[CV] END .....................C=1, gamma=auto, kernel=linear; total time=   2.9s\n",
      "[CV] END .....................C=1, gamma=auto, kernel=linear; total time=   2.9s\n",
      "[CV] END ........................C=1, gamma=auto, kernel=rbf; total time=   4.5s\n",
      "[CV] END ........................C=1, gamma=auto, kernel=rbf; total time=   4.4s\n",
      "[CV] END ........................C=1, gamma=auto, kernel=rbf; total time=   4.8s\n",
      "[CV] END ........................C=1, gamma=auto, kernel=rbf; total time=   4.7s\n",
      "[CV] END ........................C=1, gamma=auto, kernel=rbf; total time=   4.7s\n",
      "[CV] END ...................C=10, gamma=scale, kernel=linear; total time=   2.8s\n",
      "[CV] END ...................C=10, gamma=scale, kernel=linear; total time=   2.7s\n",
      "[CV] END ...................C=10, gamma=scale, kernel=linear; total time=   2.7s\n",
      "[CV] END ...................C=10, gamma=scale, kernel=linear; total time=   2.8s\n",
      "[CV] END ...................C=10, gamma=scale, kernel=linear; total time=   2.8s\n",
      "[CV] END ......................C=10, gamma=scale, kernel=rbf; total time=   4.5s\n",
      "[CV] END ......................C=10, gamma=scale, kernel=rbf; total time=   4.5s\n",
      "[CV] END ......................C=10, gamma=scale, kernel=rbf; total time=   4.5s\n",
      "[CV] END ......................C=10, gamma=scale, kernel=rbf; total time=   4.5s\n",
      "[CV] END ......................C=10, gamma=scale, kernel=rbf; total time=   4.9s\n",
      "[CV] END ....................C=10, gamma=auto, kernel=linear; total time=   2.8s\n",
      "[CV] END ....................C=10, gamma=auto, kernel=linear; total time=   2.7s\n",
      "[CV] END ....................C=10, gamma=auto, kernel=linear; total time=   2.7s\n",
      "[CV] END ....................C=10, gamma=auto, kernel=linear; total time=   2.8s\n",
      "[CV] END ....................C=10, gamma=auto, kernel=linear; total time=   2.8s\n",
      "[CV] END .......................C=10, gamma=auto, kernel=rbf; total time=   4.9s\n",
      "[CV] END .......................C=10, gamma=auto, kernel=rbf; total time=   4.9s\n",
      "[CV] END .......................C=10, gamma=auto, kernel=rbf; total time=   5.0s\n",
      "[CV] END .......................C=10, gamma=auto, kernel=rbf; total time=   5.2s\n",
      "[CV] END .......................C=10, gamma=auto, kernel=rbf; total time=   5.2s\n",
      "Best parameters found: {'C': 10, 'gamma': 'scale', 'kernel': 'rbf'}\n",
      "Best cross-validation score: 0.9197432427651595\n"
     ]
    }
   ],
   "source": [
    "\n",
    "\n",
    " #Define the parameter grid for hyperparameter tuning\n",
    "param_grid = {\n",
    "    'kernel': ['linear', 'rbf'],\n",
    "    'C': [1, 10],\n",
    "    'gamma': ['scale', 'auto']}\n",
    "\n",
    " #Create an instance of the SVC\n",
    "svc = SVC()\n",
    "\n",
    " #Initialize GridSearchCV with the SVC model and the parameter grid\n",
    "clf = GridSearchCV(svc, param_grid, cv=5, verbose=2)  # 5-fold cross-validation\n",
    "\n",
    "# Perform the grid search on the training data\n",
    "clf.fit(X_resampled, Y_resampled)\n",
    "\n",
    "# Get the best parameters and best score from the grid search\n",
    "best_params = clf.best_params_\n",
    "best_score = clf.best_score_\n",
    "\n",
    "print(f\"Best parameters found: {best_params}\")\n",
    "print(f\"Best cross-validation score: {best_score}\")\n",
    "#svc.fit(X_resampled, Y_resampled)\n"
   ]
  },
  {
   "cell_type": "code",
   "execution_count": 10,
   "id": "0dacc70b",
   "metadata": {
    "execution": {
     "iopub.execute_input": "2024-09-07T11:06:23.643191Z",
     "iopub.status.busy": "2024-09-07T11:06:23.642848Z",
     "iopub.status.idle": "2024-09-07T11:06:24.371155Z",
     "shell.execute_reply": "2024-09-07T11:06:24.369960Z"
    },
    "papermill": {
     "duration": 0.758177,
     "end_time": "2024-09-07T11:06:24.373437",
     "exception": false,
     "start_time": "2024-09-07T11:06:23.615260",
     "status": "completed"
    },
    "tags": []
   },
   "outputs": [
    {
     "name": "stdout",
     "output_type": "stream",
     "text": [
      "Testing Score: 0.9051987767584098\n"
     ]
    }
   ],
   "source": [
    "# Evaluate the best model on the test set\n",
    "best_model = clf.best_estimator_\n",
    "test_score = best_model.score(pca_test, Y_test)\n",
    "print(\"Testing Score:\", test_score)"
   ]
  },
  {
   "cell_type": "code",
   "execution_count": 11,
   "id": "34dce535",
   "metadata": {
    "execution": {
     "iopub.execute_input": "2024-09-07T11:06:24.429805Z",
     "iopub.status.busy": "2024-09-07T11:06:24.429143Z",
     "iopub.status.idle": "2024-09-07T11:06:31.957242Z",
     "shell.execute_reply": "2024-09-07T11:06:31.956371Z"
    },
    "papermill": {
     "duration": 7.557728,
     "end_time": "2024-09-07T11:06:31.959527",
     "exception": false,
     "start_time": "2024-09-07T11:06:24.401799",
     "status": "completed"
    },
    "tags": []
   },
   "outputs": [],
   "source": [
    "# Calculate accuracy on training and validation sets\n",
    "train_accuracy = best_model.score(X_resampled, Y_resampled)\n"
   ]
  },
  {
   "cell_type": "code",
   "execution_count": 12,
   "id": "3479e28a",
   "metadata": {
    "execution": {
     "iopub.execute_input": "2024-09-07T11:06:32.013479Z",
     "iopub.status.busy": "2024-09-07T11:06:32.013166Z",
     "iopub.status.idle": "2024-09-07T11:06:32.017772Z",
     "shell.execute_reply": "2024-09-07T11:06:32.016883Z"
    },
    "papermill": {
     "duration": 0.033711,
     "end_time": "2024-09-07T11:06:32.019908",
     "exception": false,
     "start_time": "2024-09-07T11:06:31.986197",
     "status": "completed"
    },
    "tags": []
   },
   "outputs": [
    {
     "name": "stdout",
     "output_type": "stream",
     "text": [
      "Training Score: 0.9994054696789536\n"
     ]
    }
   ],
   "source": [
    "print(\"Training Score:\", train_accuracy)\n"
   ]
  },
  {
   "cell_type": "code",
   "execution_count": 13,
   "id": "44801630",
   "metadata": {
    "execution": {
     "iopub.execute_input": "2024-09-07T11:06:32.073512Z",
     "iopub.status.busy": "2024-09-07T11:06:32.073218Z",
     "iopub.status.idle": "2024-09-07T11:06:33.739878Z",
     "shell.execute_reply": "2024-09-07T11:06:33.739000Z"
    },
    "papermill": {
     "duration": 1.69642,
     "end_time": "2024-09-07T11:06:33.742483",
     "exception": false,
     "start_time": "2024-09-07T11:06:32.046063",
     "status": "completed"
    },
    "tags": []
   },
   "outputs": [
    {
     "data": {
      "image/png": "[encoded data removed]",
      "text/plain": [
       "<Figure size 640x480 with 2 Axes>"
      ]
     },
     "metadata": {},
     "output_type": "display_data"
    }
   ],
   "source": [
    "\n",
    "# Predict the response for test dataset\n",
    "y_pred = best_model.predict(pca_test)\n",
    "\n",
    "# Define the custom color map\n",
    "custom_colors = ['#01411C','#4B6F44','#4F7942','#74C365','#D0F0C0']\n",
    "custom_cmap = matplotlib.colors.ListedColormap(custom_colors)\n",
    "\n",
    "# Calculate confusion matrix\n",
    "cm = confusion_matrix(Y_test, y_pred)\n",
    "\n",
    "# Create a display object with the custom color map\n",
    "disp = ConfusionMatrixDisplay(confusion_matrix=cm, display_labels = ['glioma_tumor', 'meningioma_tumor', 'no_tumor', 'pituitary_tumor'])\n",
    "\n",
    "# Plot the confusion matrix\n",
    "fig, ax = plt.subplots()\n",
    "disp.plot(cmap=custom_cmap, ax=ax)\n",
    "\n",
    "# Set the title and axis labels\n",
    "fig.text(s='Heatmap of the Confusion Matrix',size=18,fontweight='bold',\n",
    "             fontname='monospace',y=0.92,x=0.10,alpha=0.8)\n",
    "\n",
    "# Rotate x-axis labels\n",
    "plt.xticks(rotation=45)\n",
    "\n",
    "# Save the figure\n",
    "plt.savefig('CM SVM.png', dpi=300, bbox_inches='tight')\n",
    "\n",
    "# Show the plot\n",
    "plt.show()"
   ]
  },
  {
   "cell_type": "code",
   "execution_count": 14,
   "id": "a26d0a84",
   "metadata": {
    "execution": {
     "iopub.execute_input": "2024-09-07T11:06:33.798566Z",
     "iopub.status.busy": "2024-09-07T11:06:33.798270Z",
     "iopub.status.idle": "2024-09-07T11:06:34.528202Z",
     "shell.execute_reply": "2024-09-07T11:06:34.527159Z"
    },
    "papermill": {
     "duration": 0.760356,
     "end_time": "2024-09-07T11:06:34.530421",
     "exception": false,
     "start_time": "2024-09-07T11:06:33.770065",
     "status": "completed"
    },
    "tags": []
   },
   "outputs": [
    {
     "name": "stdout",
     "output_type": "stream",
     "text": [
      "Testing Score: 0.9051987767584098\n",
      "Confusion Matrix:\n",
      " [[79 11  3  0]\n",
      " [ 2 90  3  1]\n",
      " [ 1  4 40  6]\n",
      " [ 0  0  0 87]]\n",
      "Classification Report:\n",
      "                   precision    recall  f1-score   support\n",
      "\n",
      "    glioma_tumor       0.96      0.85      0.90        93\n",
      "meningioma_tumor       0.86      0.94      0.90        96\n",
      "        no_tumor       0.87      0.78      0.82        51\n",
      " pituitary_tumor       0.93      1.00      0.96        87\n",
      "\n",
      "        accuracy                           0.91       327\n",
      "       macro avg       0.90      0.89      0.90       327\n",
      "    weighted avg       0.91      0.91      0.90       327\n",
      "\n"
     ]
    }
   ],
   "source": [
    "\n",
    "# Additional evaluations\n",
    "y_pred = best_model.predict(pca_test)\n",
    "conf_matrix = confusion_matrix(Y_test, y_pred)\n",
    "class_report = classification_report(Y_test, y_pred)\n",
    "\n",
    "print(\"Testing Score:\", test_score)\n",
    "print(\"Confusion Matrix:\\n\", conf_matrix)\n",
    "print(\"Classification Report:\\n\", class_report)\n",
    "\n"
   ]
  }
 ],
 "metadata": {
  "kaggle": {
   "accelerator": "gpu",
   "dataSources": [
    {
     "datasetId": 672377,
     "sourceId": 1183165,
     "sourceType": "datasetVersion"
    }
   ],
   "dockerImageVersionId": 30733,
   "isGpuEnabled": true,
   "isInternetEnabled": false,
   "language": "python",
   "sourceType": "notebook"
  },
  "kernelspec": {
   "display_name": "Python 3",
   "language": "python",
   "name": "python3"
  },
  "language_info": {
   "codemirror_mode": {
    "name": "ipython",
    "version": 3
   },
   "file_extension": ".py",
   "mimetype": "text/x-python",
   "name": "python",
   "nbconvert_exporter": "python",
   "pygments_lexer": "ipython3",
   "version": "3.10.13"
  },
  "papermill": {
   "default_parameters": {},
   "duration": 301.382033,
   "end_time": "2024-09-07T11:06:36.920071",
   "environment_variables": {},
   "exception": null,
   "input_path": "__notebook__.ipynb",
   "output_path": "__notebook__.ipynb",
   "parameters": {},
   "start_time": "2024-09-07T11:01:35.538038",
   "version": "2.5.0"
  }
 },
 "nbformat": 4,
 "nbformat_minor": 5
}
